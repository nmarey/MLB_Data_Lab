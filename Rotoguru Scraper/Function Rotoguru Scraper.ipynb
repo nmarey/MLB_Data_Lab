{
 "cells": [
  {
   "cell_type": "markdown",
   "metadata": {},
   "source": [
    "# Function"
   ]
  },
  {
   "cell_type": "code",
   "execution_count": 1,
   "metadata": {},
   "outputs": [],
   "source": [
    "import re\n",
    "import pandas as pd\n",
    "from bs4 import BeautifulSoup\n",
    "import urllib\n",
    "\n",
    "def rotoguru_baseball_pts(mth, day, yr):\n",
    "    url = \"http://rotoguru1.com/cgi-bin/byday.pl?game=dk&month={}&day={}&year={}\".format(mth, day, yr)\n",
    "    \n",
    "    page = urllib.request.urlopen(url)\n",
    "    soup = BeautifulSoup(page,'html.parser')\n",
    "    \n",
    "    header = soup.find_all('u')\n",
    "    head = []\n",
    "    for var in header:\n",
    "        cols = var.find_all('b')\n",
    "        cols = [ele.text.strip() for ele in cols]\n",
    "        head.append(cols)\n",
    "        \n",
    "    head = head[:7]\n",
    "    head[0] = ['Pos']\n",
    "    head.insert(1, ['Player'])\n",
    "\n",
    "    flat_head = [item for sublist in head for item in sublist]\n",
    "    \n",
    "    opp = soup.find_all('tr')\n",
    "    oppo = []\n",
    "    for ele in opp:\n",
    "        op = ele.find_all('td', attrs={'nowrap':\"\"})\n",
    "        op = [ele.text for ele in op]\n",
    "        oppo.append(op)\n",
    "\n",
    "    opponent = oppo[9:-2]\n",
    "    while ['Jump to: \\xa0 \\xa0 Pitchers \\xa0 | \\xa0 Hitters \\xa0 | '] in opponent:\n",
    "        opponent.remove(['Jump to: \\xa0 \\xa0 Pitchers \\xa0 | \\xa0 Hitters \\xa0 | '])\n",
    "    while ['Hitters '] in opponent:\n",
    "        opponent.remove(['Hitters '])\n",
    "    \n",
    "    dat_df = pd.DataFrame(data=opponent, columns=flat_head)\n",
    "    return(dat_df)"
   ]
  },
  {
   "cell_type": "markdown",
   "metadata": {},
   "source": [
    "# Example"
   ]
  },
  {
   "cell_type": "code",
   "execution_count": null,
   "metadata": {},
   "outputs": [],
   "source": [
    "import numpy as np\n",
    "\n",
    "d = np.arange(1, 31, 1)\n",
    "\n",
    "june_df = pd.DataFrame()\n",
    "\n",
    "for i in d:\n",
    "    temp_df = rotoguru_baseball_pts(mth=6, day=i, yr=2019)\n",
    "    june_df = pd.concat([june_df, temp_df], ignore_index=True) \n",
    "    \n",
    "june_df\n",
    "\n",
    "june_df['Points'] = june_df['Points'].astype(float)\n",
    "\n",
    "june_df.to_csv('C:/Users/finnxm/DK_June_pts.csv', index = None, header=True)"
   ]
  }
 ],
 "metadata": {
  "kernelspec": {
   "display_name": "Python 3",
   "language": "python",
   "name": "python3"
  },
  "language_info": {
   "codemirror_mode": {
    "name": "ipython",
    "version": 3
   },
   "file_extension": ".py",
   "mimetype": "text/x-python",
   "name": "python",
   "nbconvert_exporter": "python",
   "pygments_lexer": "ipython3",
   "version": "3.7.0"
  }
 },
 "nbformat": 4,
 "nbformat_minor": 2
}
