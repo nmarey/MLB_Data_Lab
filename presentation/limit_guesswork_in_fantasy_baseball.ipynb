{
 "cells": [
  {
   "cell_type": "code",
   "execution_count": 1,
   "metadata": {},
   "outputs": [],
   "source": [
    "from notebook.services.config import ConfigManager\n",
    "cm = ConfigManager()\n"
   ]
  },
  {
   "cell_type": "code",
   "execution_count": 2,
   "metadata": {},
   "outputs": [
    {
     "data": {
      "text/plain": [
       "{'theme': 'sky'}"
      ]
     },
     "execution_count": 2,
     "metadata": {},
     "output_type": "execute_result"
    }
   ],
   "source": [
    "cm.update( 'rise', {\"theme\": \"sky\"} )"
   ]
  },
  {
   "cell_type": "markdown",
   "metadata": {
    "slideshow": {
     "slide_type": "slide"
    }
   },
   "source": [
    "# <center> Limit the Guesswork in Fantasy Baseball by Using Python for Data Analysis </center>\n",
    "\n",
    "Nicholas Marey<br>\n",
    "July 11, 2019"
   ]
  },
  {
   "cell_type": "markdown",
   "metadata": {
    "slideshow": {
     "slide_type": "slide"
    }
   },
   "source": [
    "## Topics\n",
    "\n",
    "* About me\n",
    "* What is baseball?\n",
    "* What is daily fantasy sports\n",
    "* Data\n",
    "* Naive model (rolling average)\n",
    "* Univariate model (simple exponential smoothing)\n",
    "* Non-parametric method (kernel density estimator)\n",
    "* Bayesian analysis (pyStan)\n",
    "* Prediction model (general additive model)\n",
    "* Optimization\n",
    "* Analysis / Data delivery (flask web app)\n",
    "* Next steps"
   ]
  },
  {
   "cell_type": "markdown",
   "metadata": {
    "slideshow": {
     "slide_type": "slide"
    }
   },
   "source": [
    "## About Me\n",
    "\n",
    "* Former chemical engineer\n",
    "* Worked as a process engineer at a factory that made toilet paper\n",
    "* Masters of applied statistics\n",
    "* Data scientist?"
   ]
  },
  {
   "cell_type": "markdown",
   "metadata": {
    "slideshow": {
     "slide_type": "slide"
    }
   },
   "source": [
    "## What is Baseball???"
   ]
  },
  {
   "cell_type": "markdown",
   "metadata": {
    "slideshow": {
     "slide_type": "slide"
    }
   },
   "source": [
    "<center> It is a child's game played by grown men who sometimes act like children </center>\n",
    "<center> <img src='yolmer.png'> </center>"
   ]
  },
  {
   "cell_type": "markdown",
   "metadata": {
    "slideshow": {
     "slide_type": "slide"
    }
   },
   "source": [
    "<center>Its so beautiful that it is basically art.</center>\n",
    "<table><tr><td><img src='yasiel_puig_fight_small.png'></td><td><img src='puig_art.jpg'></td></tr></table>\n"
   ]
  },
  {
   "cell_type": "markdown",
   "metadata": {
    "slideshow": {
     "slide_type": "slide"
    }
   },
   "source": [
    "### <center>Baseball is a game of failure</center>\n",
    "\n",
    "If a player can get a hit __30%__ of the time for their entire career will they would be on par with players in the __Hall of Fame__.\n",
    "\n",
    "Getting on base an average of __372__ times per __1,000__ attempts is a __Hall of Fame__ level output. \n",
    "\n",
    "\n"
   ]
  },
  {
   "cell_type": "markdown",
   "metadata": {
    "slideshow": {
     "slide_type": "slide"
    }
   },
   "source": [
    "### <center> Baseball is very quirky </center>\n",
    "* Other than the basepath there is no standard field side\n",
    "* There is no time clock\n",
    "* The offense does not have possession of the baseball. The pitcher initiates and dictates the play and the defense has possession of the ball.  \n",
    "* For better or worse, the manager wears a uniform, beer belly and all.\n",
    "* They play almost every day."
   ]
  },
  {
   "cell_type": "markdown",
   "metadata": {
    "slideshow": {
     "slide_type": "slide"
    }
   },
   "source": [
    "<center> Baseball is a great sport to apply statistical analysis due to its series of one on one interactions, in a finite number of states </center>"
   ]
  },
  {
   "cell_type": "markdown",
   "metadata": {
    "slideshow": {
     "slide_type": "slide"
    }
   },
   "source": [
    "## Fantasy and Daily Fantasy Sports, A Primer"
   ]
  },
  {
   "cell_type": "markdown",
   "metadata": {
    "slideshow": {
     "slide_type": "slide"
    }
   },
   "source": [
    "### <center> Fantasy sports </center>\n",
    "\n",
    "A game where individuals assemble imaginary teams of real players of a professional sport.\n",
    "\n",
    "\n",
    "\n",
    "\n"
   ]
  },
  {
   "cell_type": "markdown",
   "metadata": {
    "slideshow": {
     "slide_type": "slide"
    }
   },
   "source": [
    "### <center > Daily Fantasy Sports </center>\n",
    "\n",
    "Daily fantasy sports (DFS) consist of short, typically one day contests, where participants have an assemble a team of players, who have an associate cost or \\\"salary\\\" and earn points based upon actual statistical performance of the real players.\n",
    "\n",
    "The participant must put together a team while staying under a salary cap.\n",
    "\n",
    "\n"
   ]
  },
  {
   "cell_type": "markdown",
   "metadata": {
    "slideshow": {
     "slide_type": "slide"
    }
   },
   "source": [
    "## Timeline\n",
    "\n",
    "**1980** First fantasy baseball league is created at a hotel in Manhattan.\n",
    "\n",
    "**October 13, 2006** The Unlawful Internet Gambling Enforcement Act (UIGEA) was signed into law. While the bill crippled the online poker industry, it contained explicit language that legalized daily fantasy sports.\n",
    "\n",
    "**January 2009** FanDuel was founded\n",
    "\n",
    "**January 2012** DraftKings was launched\n",
    "\n"
   ]
  },
  {
   "cell_type": "markdown",
   "metadata": {
    "slideshow": {
     "slide_type": "notes"
    }
   },
   "source": [
    "The first fantasy baseball league was created in a manhattan hotel in 1980. From there it rapidly gained popularity"
   ]
  },
  {
   "cell_type": "markdown",
   "metadata": {
    "slideshow": {
     "slide_type": "slide"
    }
   },
   "source": [
    "## Data, What's Up With it, And How Does I Get Sum???"
   ]
  },
  {
   "cell_type": "code",
   "execution_count": null,
   "metadata": {},
   "outputs": [],
   "source": [
    "import pandas as pd\n",
    "from bs4 import BeautifulSoup\n",
    "import urllib\n",
    "import re\n",
    "from calendar import month_abbr\n",
    "\n",
    "def br_scrapper(player, pos, year):\n",
    "    url = \"https://www.baseball-reference.com/players/gl.fcgi?id={}&t={}&year={}\".format(player, pos, year)\n",
    "    page = urllib.request.urlopen(url)\n",
    "    soup = BeautifulSoup(page,'html.parser')\n",
    "    \n",
    "    header = soup.find('table', id=\"batting_gamelogs\").find('thead').find('tr').text.split('\\n')\n",
    "    #header = soup.find('table', id=\"batting_gamelogs\").find('tr').text.split('\\n')\n",
    "    header = header[2:-1] # drop first and last item\n",
    "    header = ['team_homeORaway' if x=='' else x for x in header]\n",
    "    \n",
    "    table = soup.find('table', id=\"batting_gamelogs\")\n",
    "    table_rows = table.find('tbody').find_all('tr', id=re.compile(\"batting_gamelogs.\\d{4}\"))\n",
    "    #table_rows\n",
    "    \n",
    "    data = []\n",
    "    for row in table_rows:\n",
    "        cols = row.find_all('td')\n",
    "        cols = [ele.text.strip() for ele in cols]\n",
    "        data.append(cols)\n",
    "    \n",
    "    player_name = soup.find('div', itemtype='https://schema.org/Person').find('h1').text\n",
    "    bats = soup.find('div', itemtype = 'https://schema.org/Person').text.split('\\n')[8].split(':')[1].strip()\n",
    "    \n",
    "    data = pd.DataFrame(data=data, columns = header)\n",
    "    \n",
    "    data['Yr'] = year\n",
    "    data['Player'] = player_name\n",
    "    data['Bats'] = bats\n",
    "    data['Month'] = data['Date'].str.split(\" \").str[0]\n",
    "    data['Day'] = data['Date'].str.split(\" \").str[1]\n",
    "    \n",
    "    month_dict = dict((v,k) for k,v in enumerate(month_abbr))\n",
    "    \n",
    "    mth = []\n",
    "    for i in data['Month']:\n",
    "        mth.append(month_dict[i])\n",
    "    \n",
    "    data['Month'] = mth\n",
    "    data['Day'] = data['Day'].astype(str).astype(int)\n",
    "    \n",
    "    data['dt'] = pd.to_datetime(data['Yr']*10000+data['Month']*100+data['Day'], format = '%Y%m%d')\n",
    "    \n",
    "    # data = data.drop([\"Yr\", \"Month\", \"Day\"], axis=1)\n",
    "    \n",
    "    data = data.drop(['DFS(DK)', 'DFS(FD)'], axis = 1)\n",
    "    \n",
    "    data[['AB', 'R', 'H', '2B', '3B', 'HR', 'RBI', 'BB','IBB', \n",
    "          'SO', 'HBP', 'SH', 'SF', 'ROE', 'GDP', 'SB', 'SB', 'CS','BOP']] = data[['AB', 'R', 'H', '2B', '3B',\n",
    "                                                                               'HR', 'RBI', 'BB', 'IBB',\n",
    "                                                                               'SO', 'HBP', 'SH', 'SF', 'ROE',\n",
    "                                                                               'GDP', 'SB', 'SB', 'CS', 'BOP']].astype(int)\n",
    "    data[['BA', 'OBP', 'SLG', 'OPS','aLI', 'WPA', 'RE24']] = data[['BA', 'OBP', 'SLG', 'OPS','aLI', 'WPA', 'RE24']].astype(float)\n",
    "\n",
    "    \n",
    "    if pos == 'b':\n",
    "        data['DFS(DK)'] = (data['H'] - data['2B'] - data['3B'] - data['HR'])*3 + data['2B']*5 + data['3B']*8 + data['HR']*10 + data['RBI']*2 + data['R']*2 + data['BB']*2 + data['HBP']*2 + data['SB']*5\n",
    "        data['DFS(FD)'] = (data['H'] - data['2B'] - data['3B'] - data['HR'])*3 + data['2B']*6 + data['3B']*9 + data['HR']*12 + data['RBI']*3.5 + data['R']*3.2 + data['BB']*3 + data['HBP']*3 + data['SB']*6\n",
    "    \n",
    "    return(data)\n",
    "    "
   ]
  },
  {
   "cell_type": "markdown",
   "metadata": {
    "slideshow": {
     "slide_type": "slide"
    }
   },
   "source": [
    "# Rolling Average"
   ]
  },
  {
   "cell_type": "markdown",
   "metadata": {
    "slideshow": {
     "slide_type": "slide"
    }
   },
   "source": [
    "What is it?"
   ]
  },
  {
   "cell_type": "markdown",
   "metadata": {
    "slideshow": {
     "slide_type": "slide"
    }
   },
   "source": [
    "## Example"
   ]
  },
  {
   "cell_type": "code",
   "execution_count": null,
   "metadata": {},
   "outputs": [],
   "source": [
    "test code"
   ]
  },
  {
   "cell_type": "markdown",
   "metadata": {
    "slideshow": {
     "slide_type": "slide"
    }
   },
   "source": [
    "# Exponential Smoothing"
   ]
  },
  {
   "cell_type": "markdown",
   "metadata": {
    "slideshow": {
     "slide_type": "slide"
    }
   },
   "source": [
    "What is it?"
   ]
  },
  {
   "cell_type": "markdown",
   "metadata": {
    "slideshow": {
     "slide_type": "slide"
    }
   },
   "source": [
    "## Example"
   ]
  },
  {
   "cell_type": "code",
   "execution_count": null,
   "metadata": {},
   "outputs": [],
   "source": []
  },
  {
   "cell_type": "markdown",
   "metadata": {
    "slideshow": {
     "slide_type": "slide"
    }
   },
   "source": [
    "# Kernel Density Estimator"
   ]
  },
  {
   "cell_type": "markdown",
   "metadata": {
    "slideshow": {
     "slide_type": "slide"
    }
   },
   "source": [
    "What is it?"
   ]
  },
  {
   "cell_type": "markdown",
   "metadata": {
    "slideshow": {
     "slide_type": "slide"
    }
   },
   "source": [
    "## Example: What is the distribution of the data?"
   ]
  },
  {
   "cell_type": "markdown",
   "metadata": {
    "slideshow": {
     "slide_type": "slide"
    }
   },
   "source": [
    "## Bayesian Analysis with pyStan\n",
    "### Beta - Binomial Conjugate Pair"
   ]
  },
  {
   "cell_type": "markdown",
   "metadata": {},
   "source": [
    "What is it?"
   ]
  },
  {
   "cell_type": "markdown",
   "metadata": {
    "slideshow": {
     "slide_type": "slide"
    }
   },
   "source": [
    "## Example: predicting the probability a player will get a hit"
   ]
  },
  {
   "cell_type": "code",
   "execution_count": null,
   "metadata": {},
   "outputs": [],
   "source": []
  },
  {
   "cell_type": "markdown",
   "metadata": {
    "slideshow": {
     "slide_type": "slide"
    }
   },
   "source": [
    "# General Additive Model"
   ]
  },
  {
   "cell_type": "markdown",
   "metadata": {
    "slideshow": {
     "slide_type": "slide"
    }
   },
   "source": [
    "What is it?"
   ]
  },
  {
   "cell_type": "markdown",
   "metadata": {
    "slideshow": {
     "slide_type": "slide"
    }
   },
   "source": [
    "Example"
   ]
  },
  {
   "cell_type": "code",
   "execution_count": null,
   "metadata": {},
   "outputs": [],
   "source": []
  },
  {
   "cell_type": "markdown",
   "metadata": {
    "slideshow": {
     "slide_type": "slide"
    }
   },
   "source": [
    "# Putting it all in a flask web app"
   ]
  },
  {
   "cell_type": "markdown",
   "metadata": {
    "slideshow": {
     "slide_type": "slide"
    }
   },
   "source": [
    "Process Flow\n",
    "\n",
    "Get the data -> Store it in NoSQL -> Analyze with Python -> output in Flask and bokeh"
   ]
  },
  {
   "cell_type": "markdown",
   "metadata": {
    "slideshow": {
     "slide_type": "slide"
    }
   },
   "source": [
    "<img src='https://bokeh.pydata.org/en/latest/_images/bokeh_serve.svg'>\n",
    "Figure from Bokeh documentation"
   ]
  },
  {
   "cell_type": "markdown",
   "metadata": {
    "slideshow": {
     "slide_type": "slide"
    }
   },
   "source": [
    "Example"
   ]
  },
  {
   "cell_type": "markdown",
   "metadata": {
    "slideshow": {
     "slide_type": "slide"
    }
   },
   "source": [
    "# <center> The End </center>\n",
    "\n",
    "Linkedin <br>\n",
    "Github"
   ]
  },
  {
   "cell_type": "markdown",
   "metadata": {
    "slideshow": {
     "slide_type": "slide"
    }
   },
   "source": [
    "# <center> References </center>\n",
    "\n",
    "1. whatever\n",
    "2. test\n",
    "* test"
   ]
  }
 ],
 "metadata": {
  "celltoolbar": "Slideshow",
  "kernelspec": {
   "display_name": "Python 3",
   "language": "python",
   "name": "python3"
  },
  "language_info": {
   "codemirror_mode": {
    "name": "ipython",
    "version": 3
   },
   "file_extension": ".py",
   "mimetype": "text/x-python",
   "name": "python",
   "nbconvert_exporter": "python",
   "pygments_lexer": "ipython3",
   "version": "3.7.3"
  }
 },
 "nbformat": 4,
 "nbformat_minor": 2
}
